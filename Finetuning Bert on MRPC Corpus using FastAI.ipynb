{
 "cells": [
  {
   "cell_type": "markdown",
   "metadata": {},
   "source": [
    "#### Github Repo: https://github.com/deepklarity/fastai-bert-finetuning.git"
   ]
  },
  {
   "cell_type": "markdown",
   "metadata": {},
   "source": [
    "### This notebook requires Python >= 3.6 and fastai==1.0.52"
   ]
  },
  {
   "cell_type": "markdown",
   "metadata": {},
   "source": [
    "## Objective\n",
    "\n",
    "In this notebook we will finetune pre-trained BERT model on The Microsoft Research Paraphrase Corpus (MRPC). MRPC is a paraphrase identification dataset, where systems aim to identify if two sentences are paraphrases of each other."
   ]
  },
  {
   "cell_type": "markdown",
   "metadata": {},
   "source": [
    "## BERT\n",
    "\n",
    "### Overview: \n",
    "1. Trained on BookCorpus and English Wikipedia (800M and 2,500M words respectively).\n",
    "2. Training time approx. about a week using 64 GPUs.\n",
    "3. State-Of-The-Art (SOTA) results on SQuAD v1.1 and all 9 GLUE benchmark tasks.\n",
    "\n",
    "### Architecture:\n",
    "\n",
    "#### Embedding Layers\n",
    "\n",
    "<img src=\"https://i2.wp.com/mlexplained.com/wp-content/uploads/2019/01/Screen-Shot-2019-01-04-at-3.32.48-PM.png?w=1128\">\n",
    "\n",
    "- Token embeddings, Segment embeddings and Position embeddings. \n",
    "- [SEP] token to mark the end of a sentence.\n",
    "- [CLS] token at the beginning of the input sequence, to be used only if classifying.\n",
    "\n",
    "- The convention in BERT is:\n",
    "\n",
    "(a) For sequence pairs:\n",
    " tokens:   [CLS] is this jack ##son ##ville ? [SEP] no it is not . [SEP]\n",
    " \n",
    " type_ids:   0   0  0    0    0     0      0   0    1  1  1   1  1   1\n",
    " \n",
    "(b) For single sequences:\n",
    " tokens:   [CLS] the dog is hairy . [SEP]\n",
    " \n",
    " type_ids:   0   0   0   0  0     0   0\n",
    "\n",
    "Where \"type_ids\" are used to indicate whether this is the first\n",
    "sequence or the second sequence. The embedding vectors for `type=0` and\n",
    "`type=1` were learned during pre-training and are added to the wordpiece\n",
    "embedding vector (and position vector). This is not *strictly* necessary\n",
    "since the [SEP] token unambigiously separates the sequences, but it makes\n",
    "it easier for the model to learn the concept of sequences.\n",
    "        \n",
    "- For classification tasks, the first vector (corresponding to [CLS]) is\n",
    "used as as the \"sentence vector\". The  first  token  of  every  sequence  is  always  the  special  classification  embedding([CLS]). The  final  hidden  state  (i.e.,  out-put of Transformer) corresponding to this token  is  used  as  the  aggregate  sequence  rep-resentation for classification tasks. For non-classification tasks, this vector is ignored.\n",
    "\n",
    "**Note that this only makes sense because the entire model is fine-tuned.** \n",
    "\n",
    "BERT is bidirectional, the [CLS] is encoded including all representative information of all tokens through the multi-layer encoding procedure. The representation of [CLS] is individual in different sentences. [CLS] is later fine-tuned on the downstream task. Only after fine-tuning, [CLS] aka the first token can be a meaningful representation of the whole sentence. [Link](https://github.com/google-research/bert/issues/196)\n",
    "\n",
    "#### Encoders\n",
    "\n",
    "<img src=\"http://jalammar.github.io/images/bert-base-bert-large-encoders.png\">\n",
    "\n",
    "BERT BASE (12 encoders) and BERT LARGE (24 encoders)\n",
    "\n",
    "#### Training\n",
    "\n",
    "1. **Masked LM (MLM)**: Before feeding word sequences into BERT, 15% of the words in each sequence are replaced with a [MASK] token.\n",
    "\n",
    "    Training the language model in BERT is done by predicting 15% of the tokens in the input, that were randomly picked. \n",
    "\n",
    "    These tokens are pre-processed as follows — 80% are replaced with a “[MASK]” token, 10% with a random word, and 10% use the original word. The model then attempts to predict the original value of the masked words, based on the context provided by the other, non-masked, words in the sequence.\n",
    "\n",
    "2. **Next Sentence Prediction (NSP)**: In the BERT training process, the model receives pairs of sentences as input and learns to predict if the second sentence in the pair is the subsequent sentence in the original document. "
   ]
  },
  {
   "cell_type": "markdown",
   "metadata": {},
   "source": [
    "### Pre-trained Model\n",
    "\n",
    "We will use op-for-op PyTorch reimplementation of Google's BERT model provided by pytorch-pretrained-BERT library. Refer the Github repo for more info: https://github.com/huggingface/pytorch-pretrained-BERT "
   ]
  },
  {
   "cell_type": "code",
   "execution_count": 1,
   "metadata": {},
   "outputs": [],
   "source": [
    "%reload_ext autoreload\n",
    "%autoreload 2"
   ]
  },
  {
   "cell_type": "code",
   "execution_count": null,
   "metadata": {},
   "outputs": [],
   "source": [
    "! pip install -r requirements.txt"
   ]
  },
  {
   "cell_type": "code",
   "execution_count": 3,
   "metadata": {},
   "outputs": [],
   "source": [
    "import csv\n",
    "import pandas as pd\n",
    "from pathlib import Path\n",
    "import matplotlib.cm as cm\n",
    "from fastai import *\n",
    "from fastai.text import *\n",
    "from fastai.callbacks import *\n",
    "from fastai.metrics import *\n",
    "import utils, bert_fastai, bert_helper"
   ]
  },
  {
   "cell_type": "code",
   "execution_count": 4,
   "metadata": {},
   "outputs": [],
   "source": [
    "# Seed random generators so all model runs are reproducible\n",
    "\n",
    "utils.seed_everything()"
   ]
  },
  {
   "cell_type": "markdown",
   "metadata": {},
   "source": [
    "### Using BERT with fastai\n",
    "\n",
    "There are three things we need to be careful of when using BERT with fastai:\n",
    "\n",
    "   1. BERT uses its own wordpiece tokenizer.\n",
    "    \n",
    "   [WordPiece](https://stackoverflow.com/questions/55382596/how-is-wordpiece-tokenization-helpful-to-effectively-deal-with-rare-words-proble/55416944#55416944) is a commonly used technique to segment words into subword-level in NLP tasks. In this approach an out of vocabulary word is progressively split into subwords and the word is then represented by a group of subwords. Since the subwords are part of the vocabulary, we have learned representations n context for these subwords and the context of the word is simply the combination of the context of the subwords. For more details regarding this approach please refer [Neural Machine Translation of Rare Words with Subword Units](https://arxiv.org/pdf/1508.07909)\n",
    "       \n",
    "   **How does this help?**\n",
    "\n",
    "  Imagine that the model sees the word walking. Unless this word occurs at least a few times in the\n",
    "training corpus, the model can't learn to deal with this word very well. However, it may have the\n",
    "words walked, walker, walks, each occurring only a few times. Without subword segmentation, all these\n",
    "words are treated as completely different words by the model.\n",
    "However, if these get segmented as walk@@ ing, walk@@ ed, etc., notice that all of them will now have\n",
    "walk@@ in common, which will occur much frequently while training, and the model might be able to\n",
    "learn more about it.\n",
    "   \n",
    "   2. BERT needs [CLS] and [SEP] tokens added to each sequence.\n",
    "    \n",
    "  For classification tasks we need to add [CLS] token before every input sequence.\n",
    "[SEP] token is used to separate sentences.\n",
    "    \n",
    "   3. BERT uses its own pre-built vocabulary.\n"
   ]
  },
  {
   "cell_type": "markdown",
   "metadata": {},
   "source": [
    "### Dataset\n",
    "\n",
    "MRPC dataset a text file containing 5800 pairs of sentences which have been extracted from news sources on the web, along with human annotations indicating whether each pair captures a paraphrase/semantic equivalence relationship. The column named **Quality** indicates whether the sentences are similar (1) or not (0). **\"#1 String\" and \"#2 String\"** columns contain the sentences."
   ]
  },
  {
   "cell_type": "code",
   "execution_count": 5,
   "metadata": {},
   "outputs": [],
   "source": [
    "# https://www.microsoft.com/en-us/download/details.aspx?id=52398\n",
    "# Microsoft Research Paraphrase Corpus\n",
    "TASK='MRPC'\n",
    "DATA_ROOT = Path(\".\")\n",
    "label_col = \"Quality\"\n",
    "text_cols = [\"#1 String\", \"#2 String\"]\n"
   ]
  },
  {
   "cell_type": "code",
   "execution_count": 6,
   "metadata": {},
   "outputs": [
    {
     "name": "stdout",
     "output_type": "stream",
     "text": [
      "Processing MRPC...\n",
      "Local MRPC data not specified, downloading data from https://dl.fbaipublicfiles.com/senteval/senteval_data/msr_paraphrase_train.txt\n",
      "\tCompleted!\n"
     ]
    }
   ],
   "source": [
    "# Execute script to download MRPC data and create train.csv and test.csv\n",
    "\n",
    "! python download_glue_data.py --data_dir='glue_data' --tasks=$TASK --test_labels=True"
   ]
  },
  {
   "cell_type": "code",
   "execution_count": 7,
   "metadata": {},
   "outputs": [
    {
     "data": {
      "text/html": [
       "<div>\n",
       "<style scoped>\n",
       "    .dataframe tbody tr th:only-of-type {\n",
       "        vertical-align: middle;\n",
       "    }\n",
       "\n",
       "    .dataframe tbody tr th {\n",
       "        vertical-align: top;\n",
       "    }\n",
       "\n",
       "    .dataframe thead th {\n",
       "        text-align: right;\n",
       "    }\n",
       "</style>\n",
       "<table border=\"1\" class=\"dataframe\">\n",
       "  <thead>\n",
       "    <tr style=\"text-align: right;\">\n",
       "      <th></th>\n",
       "      <th>Quality</th>\n",
       "      <th>#1 ID</th>\n",
       "      <th>#2 ID</th>\n",
       "      <th>#1 String</th>\n",
       "      <th>#2 String</th>\n",
       "    </tr>\n",
       "  </thead>\n",
       "  <tbody>\n",
       "    <tr>\n",
       "      <th>0</th>\n",
       "      <td>1</td>\n",
       "      <td>702876</td>\n",
       "      <td>702977</td>\n",
       "      <td>Amrozi accused his brother , whom he called \" ...</td>\n",
       "      <td>Referring to him as only \" the witness \" , Amr...</td>\n",
       "    </tr>\n",
       "    <tr>\n",
       "      <th>1</th>\n",
       "      <td>0</td>\n",
       "      <td>2108705</td>\n",
       "      <td>2108831</td>\n",
       "      <td>Yucaipa owned Dominick 's before selling the c...</td>\n",
       "      <td>Yucaipa bought Dominick 's in 1995 for $ 693 m...</td>\n",
       "    </tr>\n",
       "    <tr>\n",
       "      <th>2</th>\n",
       "      <td>1</td>\n",
       "      <td>1330381</td>\n",
       "      <td>1330521</td>\n",
       "      <td>They had published an advertisement on the Int...</td>\n",
       "      <td>On June 10 , the ship 's owners had published ...</td>\n",
       "    </tr>\n",
       "    <tr>\n",
       "      <th>3</th>\n",
       "      <td>0</td>\n",
       "      <td>3344667</td>\n",
       "      <td>3344648</td>\n",
       "      <td>Around 0335 GMT , Tab shares were up 19 cents ...</td>\n",
       "      <td>Tab shares jumped 20 cents , or 4.6 % , to set...</td>\n",
       "    </tr>\n",
       "    <tr>\n",
       "      <th>4</th>\n",
       "      <td>1</td>\n",
       "      <td>1236820</td>\n",
       "      <td>1236712</td>\n",
       "      <td>The stock rose $ 2.11 , or about 11 percent , ...</td>\n",
       "      <td>PG &amp; E Corp. shares jumped $ 1.63 or 8 percent...</td>\n",
       "    </tr>\n",
       "  </tbody>\n",
       "</table>\n",
       "</div>"
      ],
      "text/plain": [
       "   Quality    #1 ID    #2 ID  \\\n",
       "0        1   702876   702977   \n",
       "1        0  2108705  2108831   \n",
       "2        1  1330381  1330521   \n",
       "3        0  3344667  3344648   \n",
       "4        1  1236820  1236712   \n",
       "\n",
       "                                           #1 String  \\\n",
       "0  Amrozi accused his brother , whom he called \" ...   \n",
       "1  Yucaipa owned Dominick 's before selling the c...   \n",
       "2  They had published an advertisement on the Int...   \n",
       "3  Around 0335 GMT , Tab shares were up 19 cents ...   \n",
       "4  The stock rose $ 2.11 , or about 11 percent , ...   \n",
       "\n",
       "                                           #2 String  \n",
       "0  Referring to him as only \" the witness \" , Amr...  \n",
       "1  Yucaipa bought Dominick 's in 1995 for $ 693 m...  \n",
       "2  On June 10 , the ship 's owners had published ...  \n",
       "3  Tab shares jumped 20 cents , or 4.6 % , to set...  \n",
       "4  PG & E Corp. shares jumped $ 1.63 or 8 percent...  "
      ]
     },
     "execution_count": 7,
     "metadata": {},
     "output_type": "execute_result"
    }
   ],
   "source": [
    "train_df = pd.read_csv(DATA_ROOT / \"glue_data\" / \"MRPC\" / \"train.tsv\", sep = '\\t', quoting=csv.QUOTE_NONE)\n",
    "train_df.head()"
   ]
  },
  {
   "cell_type": "code",
   "execution_count": 8,
   "metadata": {},
   "outputs": [
    {
     "data": {
      "text/html": [
       "<div>\n",
       "<style scoped>\n",
       "    .dataframe tbody tr th:only-of-type {\n",
       "        vertical-align: middle;\n",
       "    }\n",
       "\n",
       "    .dataframe tbody tr th {\n",
       "        vertical-align: top;\n",
       "    }\n",
       "\n",
       "    .dataframe thead th {\n",
       "        text-align: right;\n",
       "    }\n",
       "</style>\n",
       "<table border=\"1\" class=\"dataframe\">\n",
       "  <thead>\n",
       "    <tr style=\"text-align: right;\">\n",
       "      <th></th>\n",
       "      <th>index</th>\n",
       "      <th>Quality</th>\n",
       "      <th>#1 ID</th>\n",
       "      <th>#2 ID</th>\n",
       "      <th>#1 String</th>\n",
       "      <th>#2 String</th>\n",
       "    </tr>\n",
       "  </thead>\n",
       "  <tbody>\n",
       "    <tr>\n",
       "      <th>0</th>\n",
       "      <td>0</td>\n",
       "      <td>1</td>\n",
       "      <td>1089874</td>\n",
       "      <td>1089925</td>\n",
       "      <td>PCCW 's chief operating officer , Mike Butcher...</td>\n",
       "      <td>Current Chief Operating Officer Mike Butcher a...</td>\n",
       "    </tr>\n",
       "    <tr>\n",
       "      <th>1</th>\n",
       "      <td>1</td>\n",
       "      <td>1</td>\n",
       "      <td>3019446</td>\n",
       "      <td>3019327</td>\n",
       "      <td>The world 's two largest automakers said their...</td>\n",
       "      <td>Domestic sales at both GM and No. 2 Ford Motor...</td>\n",
       "    </tr>\n",
       "    <tr>\n",
       "      <th>2</th>\n",
       "      <td>2</td>\n",
       "      <td>1</td>\n",
       "      <td>1945605</td>\n",
       "      <td>1945824</td>\n",
       "      <td>According to the federal Centers for Disease C...</td>\n",
       "      <td>The Centers for Disease Control and Prevention...</td>\n",
       "    </tr>\n",
       "    <tr>\n",
       "      <th>3</th>\n",
       "      <td>3</td>\n",
       "      <td>0</td>\n",
       "      <td>1430402</td>\n",
       "      <td>1430329</td>\n",
       "      <td>A tropical storm rapidly developed in the Gulf...</td>\n",
       "      <td>A tropical storm rapidly developed in the Gulf...</td>\n",
       "    </tr>\n",
       "    <tr>\n",
       "      <th>4</th>\n",
       "      <td>4</td>\n",
       "      <td>0</td>\n",
       "      <td>3354381</td>\n",
       "      <td>3354396</td>\n",
       "      <td>The company didn 't detail the costs of the re...</td>\n",
       "      <td>But company officials expect the costs of the ...</td>\n",
       "    </tr>\n",
       "  </tbody>\n",
       "</table>\n",
       "</div>"
      ],
      "text/plain": [
       "   index  Quality    #1 ID    #2 ID  \\\n",
       "0      0        1  1089874  1089925   \n",
       "1      1        1  3019446  3019327   \n",
       "2      2        1  1945605  1945824   \n",
       "3      3        0  1430402  1430329   \n",
       "4      4        0  3354381  3354396   \n",
       "\n",
       "                                           #1 String  \\\n",
       "0  PCCW 's chief operating officer , Mike Butcher...   \n",
       "1  The world 's two largest automakers said their...   \n",
       "2  According to the federal Centers for Disease C...   \n",
       "3  A tropical storm rapidly developed in the Gulf...   \n",
       "4  The company didn 't detail the costs of the re...   \n",
       "\n",
       "                                           #2 String  \n",
       "0  Current Chief Operating Officer Mike Butcher a...  \n",
       "1  Domestic sales at both GM and No. 2 Ford Motor...  \n",
       "2  The Centers for Disease Control and Prevention...  \n",
       "3  A tropical storm rapidly developed in the Gulf...  \n",
       "4  But company officials expect the costs of the ...  "
      ]
     },
     "execution_count": 8,
     "metadata": {},
     "output_type": "execute_result"
    }
   ],
   "source": [
    "test_df = pd.read_csv(DATA_ROOT / \"glue_data\" / \"MRPC\" / \"test.tsv\", sep = '\\t', quoting=csv.QUOTE_NONE)\n",
    "test_df.head()"
   ]
  },
  {
   "cell_type": "code",
   "execution_count": 9,
   "metadata": {},
   "outputs": [
    {
     "name": "stdout",
     "output_type": "stream",
     "text": [
      "Number of Training records=3668\n",
      "Number of Test records=1725\n"
     ]
    }
   ],
   "source": [
    "print(f\"Number of Training records={len(train_df)}\")\n",
    "print(f\"Number of Test records={len(test_df)}\")"
   ]
  },
  {
   "cell_type": "code",
   "execution_count": 10,
   "metadata": {
    "scrolled": true
   },
   "outputs": [],
   "source": [
    "def sample_sentences(quality, n=5):\n",
    "    ctr = 0\n",
    "    for row in train_df.query(f'Quality=={quality}').itertuples():\n",
    "        print(f\"1. {row[4]}\\n2. {row[5]}\")\n",
    "        print(\"=\"*100)\n",
    "        ctr += 1\n",
    "        if n==ctr:\n",
    "            break\n"
   ]
  },
  {
   "cell_type": "code",
   "execution_count": 11,
   "metadata": {},
   "outputs": [
    {
     "name": "stdout",
     "output_type": "stream",
     "text": [
      "1. Yucaipa owned Dominick 's before selling the chain to Safeway in 1998 for $ 2.5 billion .\n",
      "2. Yucaipa bought Dominick 's in 1995 for $ 693 million and sold it to Safeway for $ 1.8 billion in 1998 .\n",
      "====================================================================================================\n",
      "1. Around 0335 GMT , Tab shares were up 19 cents , or 4.4 % , at A $ 4.56 , having earlier set a record high of A $ 4.57 .\n",
      "2. Tab shares jumped 20 cents , or 4.6 % , to set a record closing high at A $ 4.57 .\n",
      "====================================================================================================\n",
      "1. The Nasdaq had a weekly gain of 17.27 , or 1.2 percent , closing at 1,520.15 on Friday .\n",
      "2. The tech-laced Nasdaq Composite .IXIC rallied 30.46 points , or 2.04 percent , to 1,520.15 .\n",
      "====================================================================================================\n",
      "1. That compared with $ 35.18 million , or 24 cents per share , in the year-ago period .\n",
      "2. Earnings were affected by a non-recurring $ 8 million tax benefit in the year-ago period .\n",
      "====================================================================================================\n",
      "1. Shares of Genentech , a much larger company with several products on the market , rose more than 2 percent .\n",
      "2. Shares of Xoma fell 16 percent in early trade , while shares of Genentech , a much larger company with several products on the market , were up 2 percent .\n",
      "====================================================================================================\n"
     ]
    }
   ],
   "source": [
    "# Different sentences samples            \n",
    "sample_sentences(0)"
   ]
  },
  {
   "cell_type": "code",
   "execution_count": 12,
   "metadata": {},
   "outputs": [
    {
     "name": "stdout",
     "output_type": "stream",
     "text": [
      "1. Amrozi accused his brother , whom he called \" the witness \" , of deliberately distorting his evidence .\n",
      "2. Referring to him as only \" the witness \" , Amrozi accused his brother of deliberately distorting his evidence .\n",
      "====================================================================================================\n",
      "1. They had published an advertisement on the Internet on June 10 , offering the cargo for sale , he added .\n",
      "2. On June 10 , the ship 's owners had published an advertisement on the Internet , offering the explosives for sale .\n",
      "====================================================================================================\n",
      "1. The stock rose $ 2.11 , or about 11 percent , to close Friday at $ 21.51 on the New York Stock Exchange .\n",
      "2. PG & E Corp. shares jumped $ 1.63 or 8 percent to $ 21.03 on the New York Stock Exchange on Friday .\n",
      "====================================================================================================\n",
      "1. Revenue in the first quarter of the year dropped 15 percent from the same period a year earlier .\n",
      "2. With the scandal hanging over Stewart 's company , revenue the first quarter of the year dropped 15 percent from the same period a year earlier .\n",
      "====================================================================================================\n",
      "1. The DVD-CCA then appealed to the state Supreme Court .\n",
      "2. The DVD CCA appealed that decision to the U.S. Supreme Court .\n",
      "====================================================================================================\n"
     ]
    }
   ],
   "source": [
    "# Similar sentences samples            \n",
    "sample_sentences(1)"
   ]
  },
  {
   "cell_type": "markdown",
   "metadata": {},
   "source": [
    "### Setup code for training"
   ]
  },
  {
   "cell_type": "code",
   "execution_count": 13,
   "metadata": {
    "code_folding": []
   },
   "outputs": [],
   "source": [
    "# Specify BERT configs\n",
    "\n",
    "config = utils.Config(\n",
    "    bert_model_name=\"bert-base-uncased\",\n",
    "    num_labels=2, # 0 or 1\n",
    "    max_lr=2e-5,\n",
    "    epochs=3,\n",
    "    batch_size=32,\n",
    "    max_seq_len=128\n",
    ")"
   ]
  },
  {
   "cell_type": "markdown",
   "metadata": {},
   "source": [
    "Refer [A Tutorial to Fine-Tuning BERT with Fast AI](http://mlexplained.com/2019/05/13/a-tutorial-to-fine-tuning-bert-with-fast-ai/) for deeper understanding of the code changes required for FastAI"
   ]
  },
  {
   "cell_type": "code",
   "execution_count": 14,
   "metadata": {},
   "outputs": [],
   "source": [
    "fastai_tokenizer = bert_fastai.FastAITokenizer(model_name=config.bert_model_name, max_seq_len=config.max_seq_len)"
   ]
  },
  {
   "cell_type": "markdown",
   "metadata": {},
   "source": [
    "Now, we can build the databunch using the tokenizer we build above. Notice we're passing the `include_bos=False` and `include_eos=False` options. This is to prevent fastai from adding its own Start-Of-Sentence (SOS)/End-Of-Sentence (EOS) tokens that will interfere with BERT's SOS/EOS tokens."
   ]
  },
  {
   "cell_type": "code",
   "execution_count": 15,
   "metadata": {},
   "outputs": [],
   "source": [
    "databunch = TextDataBunch.from_df(\".\", train_df=train_df, valid_df=test_df,\n",
    "                  tokenizer=fastai_tokenizer.bert_tokenizer(),\n",
    "                  vocab=fastai_tokenizer.fastai_bert_vocab(),\n",
    "                  include_bos=False,\n",
    "                  include_eos=False,\n",
    "                  text_cols=text_cols,\n",
    "                  label_cols=label_col,\n",
    "                  bs=config.batch_size,\n",
    "                  collate_fn=partial(pad_collate, pad_first=False, pad_idx=0),\n",
    "             )\n"
   ]
  },
  {
   "cell_type": "code",
   "execution_count": 16,
   "metadata": {},
   "outputs": [
    {
     "name": "stdout",
     "output_type": "stream",
     "text": [
      "Original==> Amrozi accused his brother , whom he called \" the witness \" , of deliberately distorting his evidence .,Referring to him as only \" the witness \" , Amrozi accused his brother of deliberately distorting his evidence .\n",
      "\n",
      "Tokenized==>. [CLS] am ##ro ##zi accused his brother , whom he called \" the witness \" , of deliberately di ##stor ##ting his evidence . referring to him as only \" the witness \" , am ##ro ##zi accused his brother of deliberately di ##stor ##ting his evidence . [SEP]\n",
      "====================================================================================================\n",
      "Original==> Yucaipa owned Dominick 's before selling the chain to Safeway in 1998 for $ 2.5 billion .,Yucaipa bought Dominick 's in 1995 for $ 693 million and sold it to Safeway for $ 1.8 billion in 1998 .\n",
      "\n",
      "Tokenized==>. [CLS] yu ##ca ##ip ##a owned dominic ##k ' s before selling the chain to safe ##way in 1998 for $ 2 . 5 billion . yu ##ca ##ip ##a bought dominic ##k ' s in 1995 for $ 69 ##3 million and sold it to safe ##way for $ 1 . 8 billion in 1998 . [SEP]\n",
      "====================================================================================================\n",
      "Original==> They had published an advertisement on the Internet on June 10 , offering the cargo for sale , he added .,On June 10 , the ship 's owners had published an advertisement on the Internet , offering the explosives for sale .\n",
      "\n",
      "Tokenized==>. [CLS] they had published an advertisement on the internet on june 10 , offering the cargo for sale , he added . on june 10 , the ship ' s owners had published an advertisement on the internet , offering the explosives for sale . [SEP]\n",
      "====================================================================================================\n",
      "Original==> Around 0335 GMT , Tab shares were up 19 cents , or 4.4 % , at A $ 4.56 , having earlier set a record high of A $ 4.57 .,Tab shares jumped 20 cents , or 4.6 % , to set a record closing high at A $ 4.57 .\n",
      "\n",
      "Tokenized==>. [CLS] around 03 ##35 gm ##t , tab shares were up 19 cents , or 4 . 4 % , at a $ 4 . 56 , having earlier set a record high of a $ 4 . 57 . tab shares jumped 20 cents , or 4 . 6 % , to set a record closing high at a $ 4 . 57 . [SEP]\n",
      "====================================================================================================\n",
      "Original==> The stock rose $ 2.11 , or about 11 percent , to close Friday at $ 21.51 on the New York Stock Exchange .,PG & E Corp. shares jumped $ 1.63 or 8 percent to $ 21.03 on the New York Stock Exchange on Friday .\n",
      "\n",
      "Tokenized==>. [CLS] the stock rose $ 2 . 11 , or about 11 percent , to close friday at $ 21 . 51 on the new york stock exchange . pg & e corp . shares jumped $ 1 . 63 or 8 percent to $ 21 . 03 on the new york stock exchange on friday . [SEP]\n",
      "====================================================================================================\n"
     ]
    }
   ],
   "source": [
    "# Show wordpiece tokenized data\n",
    "\n",
    "for i in range(5): \n",
    "    print(f\"Original==> {train_df.loc[i][text_cols[0]]},{train_df.loc[i][text_cols[1]]}\\n\\nTokenized==>. {databunch.x[i]}\")\n",
    "    print(\"=\"*100)"
   ]
  },
  {
   "cell_type": "markdown",
   "metadata": {},
   "source": [
    "# Model"
   ]
  },
  {
   "cell_type": "markdown",
   "metadata": {},
   "source": [
    "Now with the data in place, we will prepare the model. Again, the pytorch-pretrained-bert package gives us a sequence classifier based on BERT straight out of the box. We also build FastAI `Learner`."
   ]
  },
  {
   "cell_type": "code",
   "execution_count": 17,
   "metadata": {},
   "outputs": [],
   "source": [
    "from pytorch_pretrained_bert.modeling import BertConfig, BertForSequenceClassification\n",
    "\n",
    "\n",
    "bert_model = BertForSequenceClassification.from_pretrained(\n",
    "    config.bert_model_name, num_labels=config.num_labels)\n",
    "\n",
    "learner = bert_fastai.BertLearner(databunch,\n",
    "                                  bert_model,\n",
    "                                  metrics=[accuracy])\n",
    "\n",
    "learner.callbacks.append(ShowGraph(learner))\n"
   ]
  },
  {
   "cell_type": "markdown",
   "metadata": {},
   "source": [
    "Let's print the accuracy and f1_score of the pre-trained model on this dataset"
   ]
  },
  {
   "cell_type": "code",
   "execution_count": 18,
   "metadata": {},
   "outputs": [
    {
     "name": "stdout",
     "output_type": "stream",
     "text": [
      "Accuracy=0.33855071663856506, f1_score=0.013828867761452032\n"
     ]
    }
   ],
   "source": [
    "preds, pred_values, true_labels = learner.get_predictions()\n",
    "learner.print_metrics(preds, pred_values, true_labels)"
   ]
  },
  {
   "cell_type": "markdown",
   "metadata": {},
   "source": [
    "Interpret the results"
   ]
  },
  {
   "cell_type": "code",
   "execution_count": 19,
   "metadata": {},
   "outputs": [],
   "source": [
    "txt_ci = TextClassificationInterpretation.from_learner(learner)"
   ]
  },
  {
   "cell_type": "code",
   "execution_count": 20,
   "metadata": {},
   "outputs": [
    {
     "data": {
      "text/html": [
       "<table border=\"1\" class=\"dataframe\">\n",
       "  <thead>\n",
       "    <tr style=\"text-align: right;\">\n",
       "      <th>Index</th>\n",
       "      <th>Original Text</th>\n",
       "      <th>Tokenized</th>\n",
       "      <th>Prediction</th>\n",
       "      <th>Actual</th>\n",
       "      <th>Loss</th>\n",
       "      <th>Probability</th>\n",
       "    </tr>\n",
       "  </thead>\n",
       "  <tbody>\n",
       "    <tr>\n",
       "      <td>236</td>\n",
       "      <td>Results of the 2001 Aboriginal Peoples Survey released yesterday by Statistics Canada suggest living standards have improved but still lag for those off reserves .,The 2001 Aboriginal Peoples Survey released Wednesday by Statistics Canada says living standards have improved but still lag for the Inuit and those who leave their often impoverished reserves .</td>\n",
       "      <td>[CLS] results of the 2001 aboriginal peoples survey released yesterday by statistics canada suggest living standards have improved but still la ##g for those off reserves . the 2001 aboriginal peoples survey released wednesday by statistics canada says living standards have improved but still la ##g for the inuit and those who leave their often impoverished reserves . [SEP]</td>\n",
       "      <td>0</td>\n",
       "      <td>0</td>\n",
       "      <td>1.37</td>\n",
       "      <td>0.75</td>\n",
       "    </tr>\n",
       "    <tr>\n",
       "      <td>1693</td>\n",
       "      <td>The new orders index rose to 52.2 percent from 51.9 percent in May .,The New Orders Index rose by 0.3 percentage points from 51.9 percent in May to 52.2 percent in June .</td>\n",
       "      <td>[CLS] the new orders index rose to 52 . 2 percent from 51 . 9 percent in may . the new orders index rose by 0 . 3 percentage points from 51 . 9 percent in may to 52 . 2 percent in june . [SEP]</td>\n",
       "      <td>0</td>\n",
       "      <td>1</td>\n",
       "      <td>1.37</td>\n",
       "      <td>0.25</td>\n",
       "    </tr>\n",
       "    <tr>\n",
       "      <td>980</td>\n",
       "      <td>The two companies said PowderJect 's strong U.S. position would complement Chiron 's European presence .,PowderJect 's strong U.S. position will complement Chiron 's European presence , analysts said .</td>\n",
       "      <td>[CLS] the two companies said powder ##ject ' s strong u . s . position would complement chi ##ron ' s european presence . powder ##ject ' s strong u . s . position will complement chi ##ron ' s european presence , analysts said . [SEP]</td>\n",
       "      <td>0</td>\n",
       "      <td>1</td>\n",
       "      <td>1.36</td>\n",
       "      <td>0.26</td>\n",
       "    </tr>\n",
       "    <tr>\n",
       "      <td>1487</td>\n",
       "      <td>A Global Crossing spokeswoman and a Pentagon spokesman declined to comment .,A Global Crossing representative had no immediate comment .</td>\n",
       "      <td>[CLS] a global crossing spoke ##sw ##oman and a pentagon spokesman declined to comment . a global crossing representative had no immediate comment . [SEP]</td>\n",
       "      <td>0</td>\n",
       "      <td>0</td>\n",
       "      <td>1.35</td>\n",
       "      <td>0.74</td>\n",
       "    </tr>\n",
       "    <tr>\n",
       "      <td>1568</td>\n",
       "      <td>Another shooting linked to the spree occurred Nov. 11 at Hamilton Central Elementary in Obetz , about two miles from the freeway .,The latest shooting linked to the spree was a Nov. 11 shooting at Hamilton Township Elementary School in Obetz , about two miles from the freeway .</td>\n",
       "      <td>[CLS] another shooting linked to the sp ##ree occurred nov . 11 at hamilton central elementary in obe ##tz , about two miles from the freeway . the latest shooting linked to the sp ##ree was a nov . 11 shooting at hamilton township elementary school in obe ##tz , about two miles from the freeway . [SEP]</td>\n",
       "      <td>0</td>\n",
       "      <td>1</td>\n",
       "      <td>1.35</td>\n",
       "      <td>0.26</td>\n",
       "    </tr>\n",
       "  </tbody>\n",
       "</table>"
      ],
      "text/plain": [
       "<IPython.core.display.HTML object>"
      ]
     },
     "metadata": {},
     "output_type": "display_data"
    }
   ],
   "source": [
    "utils.custom_show_top_losses(txt_ci, test_df, text_cols, 5)"
   ]
  },
  {
   "cell_type": "code",
   "execution_count": 21,
   "metadata": {},
   "outputs": [
    {
     "data": {
      "text/html": [
       "<table border=\"1\" class=\"dataframe\">\n",
       "  <thead>\n",
       "    <tr style=\"text-align: left;\">\n",
       "      <th>epoch</th>\n",
       "      <th>train_loss</th>\n",
       "      <th>valid_loss</th>\n",
       "      <th>accuracy</th>\n",
       "      <th>time</th>\n",
       "    </tr>\n",
       "  </thead>\n",
       "  <tbody>\n",
       "    <tr>\n",
       "      <td>0</td>\n",
       "      <td>0.610131</td>\n",
       "      <td>0.565410</td>\n",
       "      <td>0.710145</td>\n",
       "      <td>00:27</td>\n",
       "    </tr>\n",
       "    <tr>\n",
       "      <td>1</td>\n",
       "      <td>0.473887</td>\n",
       "      <td>0.412696</td>\n",
       "      <td>0.817391</td>\n",
       "      <td>00:26</td>\n",
       "    </tr>\n",
       "    <tr>\n",
       "      <td>2</td>\n",
       "      <td>0.329955</td>\n",
       "      <td>0.408737</td>\n",
       "      <td>0.821449</td>\n",
       "      <td>00:27</td>\n",
       "    </tr>\n",
       "  </tbody>\n",
       "</table>"
      ],
      "text/plain": [
       "<IPython.core.display.HTML object>"
      ]
     },
     "metadata": {},
     "output_type": "display_data"
    },
    {
     "data": {
      "image/png": "[encoded data removed]",
      "text/plain": [
       "<Figure size 432x288 with 1 Axes>"
      ]
     },
     "metadata": {},
     "output_type": "display_data"
    }
   ],
   "source": [
    "learner.fit_one_cycle(config.epochs, max_lr=config.max_lr)"
   ]
  },
  {
   "cell_type": "code",
   "execution_count": 22,
   "metadata": {},
   "outputs": [
    {
     "name": "stdout",
     "output_type": "stream",
     "text": [
      "Accuracy=0.8214492797851562, f1_score=0.8666666666666667\n"
     ]
    }
   ],
   "source": [
    "preds, pred_values, true_labels = learner.get_predictions()\n",
    "learner.print_metrics(preds, pred_values, true_labels)"
   ]
  },
  {
   "cell_type": "code",
   "execution_count": 23,
   "metadata": {
    "scrolled": true
   },
   "outputs": [],
   "source": [
    "txt_ci = TextClassificationInterpretation.from_learner(learner)"
   ]
  },
  {
   "cell_type": "code",
   "execution_count": 24,
   "metadata": {},
   "outputs": [
    {
     "data": {
      "text/html": [
       "<table border=\"1\" class=\"dataframe\">\n",
       "  <thead>\n",
       "    <tr style=\"text-align: right;\">\n",
       "      <th>Index</th>\n",
       "      <th>Original Text</th>\n",
       "      <th>Tokenized</th>\n",
       "      <th>Prediction</th>\n",
       "      <th>Actual</th>\n",
       "      <th>Loss</th>\n",
       "      <th>Probability</th>\n",
       "    </tr>\n",
       "  </thead>\n",
       "  <tbody>\n",
       "    <tr>\n",
       "      <td>996</td>\n",
       "      <td>The 2 1 / 2 -ton probe will plunge into the thick Jovian atmosphere today at 3 : 49 p.m. Eastern time , disintegrating moments later from the friction generated by its 108,000-mph free-fall .,The 2 1 / 2-ton probe will plunge into the thick Jovian atmosphere today at 1 : 49 p.m. MDT , disintegrating moments later from the friction generated by its 108,000 mph free-fall .</td>\n",
       "      <td>[CLS] the 2 1 / 2 - ton probe will plunge into the thick jo ##vian atmosphere today at 3 : 49 p . m . eastern time , di ##sin ##te ##grating moments later from the friction generated by its 108 , 000 - mph free - fall . the 2 1 / 2 - ton probe will plunge into the thick jo ##vian atmosphere today at 1 :</td>\n",
       "      <td>1</td>\n",
       "      <td>1</td>\n",
       "      <td>3.65</td>\n",
       "      <td>0.97</td>\n",
       "    </tr>\n",
       "    <tr>\n",
       "      <td>436</td>\n",
       "      <td>Iran has yet to sign an additional protocol to the NPT treaty which would allow U.N. inspections at short notice .,Iran has yet to sign an additional protocol to the Nuclear Non-Proliferation Treaty , which it signed in 1970 , that would allow IAEA inspections at short notice .</td>\n",
       "      <td>[CLS] iran has yet to sign an additional protocol to the np ##t treaty which would allow u . n . inspections at short notice . iran has yet to sign an additional protocol to the nuclear non - proliferation treaty , which it signed in 1970 , that would allow ia ##ea inspections at short notice . [SEP]</td>\n",
       "      <td>1</td>\n",
       "      <td>1</td>\n",
       "      <td>3.61</td>\n",
       "      <td>0.97</td>\n",
       "    </tr>\n",
       "    <tr>\n",
       "      <td>569</td>\n",
       "      <td>Senate Minority Leader Tom Daschle , D-S.D. , is leading the opposition .,\" I think it will pass , \" Senate Minority Leader Tom Daschle , D-S.D. , said in Washington .</td>\n",
       "      <td>[CLS] senate minority leader tom das ##ch ##le , d - s . d . , is leading the opposition . \" i think it will pass , \" senate minority leader tom das ##ch ##le , d - s . d . , said in washington . [SEP]</td>\n",
       "      <td>1</td>\n",
       "      <td>0</td>\n",
       "      <td>3.59</td>\n",
       "      <td>0.03</td>\n",
       "    </tr>\n",
       "    <tr>\n",
       "      <td>779</td>\n",
       "      <td>Casteen has been under pressure from Gov. Mark R. Warner and other state officials to do whatever he could to protect Virginia Tech 's athletic viability .,Virginia Gov. Mark R. Warner has been urging other state officials to do whatever they could to protect Virginia Tech 's interests .</td>\n",
       "      <td>[CLS] caste ##en has been under pressure from gov . mark r . warner and other state officials to do whatever he could to protect virginia tech ' s athletic via ##bility . virginia gov . mark r . warner has been urging other state officials to do whatever they could to protect virginia tech ' s interests . [SEP]</td>\n",
       "      <td>1</td>\n",
       "      <td>1</td>\n",
       "      <td>3.59</td>\n",
       "      <td>0.97</td>\n",
       "    </tr>\n",
       "    <tr>\n",
       "      <td>192</td>\n",
       "      <td>His chief lawyer , Mahendradatta , said Bashir was mentally prepared for a heavy sentencing demand and felt the Marriott bombing would affect the decision .,A lawyer for Bashir , Mahendradatta , said earlier his client was mentally prepared for a heavy sentencing demand and had felt the Marriott bombing would affect the decision .</td>\n",
       "      <td>[CLS] his chief lawyer , ma ##hend ##rada ##tta , said bash ##ir was mentally prepared for a heavy sentencing demand and felt the marriott bombing would affect the decision . a lawyer for bash ##ir , ma ##hend ##rada ##tta , said earlier his client was mentally prepared for a heavy sentencing demand and had felt the marriott bombing would affect the decision . [SEP]</td>\n",
       "      <td>1</td>\n",
       "      <td>1</td>\n",
       "      <td>3.56</td>\n",
       "      <td>0.97</td>\n",
       "    </tr>\n",
       "    <tr>\n",
       "      <td>91</td>\n",
       "      <td>They were at Raffles Hospital over the weekend for further evaluation .,They underwent more tests over the weekend , and are now warded at Raffles Hospital .</td>\n",
       "      <td>[CLS] they were at raf ##fles hospital over the weekend for further evaluation . they underwent more tests over the weekend , and are now ward ##ed at raf ##fles hospital . [SEP]</td>\n",
       "      <td>1</td>\n",
       "      <td>1</td>\n",
       "      <td>3.54</td>\n",
       "      <td>0.97</td>\n",
       "    </tr>\n",
       "    <tr>\n",
       "      <td>589</td>\n",
       "      <td>In that case , the court held that Cincinnati had violated the First Amendment in banning only the advertising pamphlets in the interest of aesthetics .,In that case , the court held that the city of Cincinnati had violated the First Amendment in banning , in the interest of aesthetics , only the advertising pamphlets .</td>\n",
       "      <td>[CLS] in that case , the court held that cincinnati had violated the first amendment in banning only the advertising pamphlets in the interest of aesthetics . in that case , the court held that the city of cincinnati had violated the first amendment in banning , in the interest of aesthetics , only the advertising pamphlets . [SEP]</td>\n",
       "      <td>1</td>\n",
       "      <td>1</td>\n",
       "      <td>3.53</td>\n",
       "      <td>0.97</td>\n",
       "    </tr>\n",
       "    <tr>\n",
       "      <td>653</td>\n",
       "      <td>He admits that the law \" has several weaknesses which terrorists could exploit , undermining our defenses . \",But he also told the House Judiciary Committee the law \" has several weaknesses which terrorists could exploit , undermining our defenses . \"</td>\n",
       "      <td>[CLS] he admits that the law \" has several weaknesses which terrorists could exploit , under ##mini ##ng our defenses . \" but he also told the house judiciary committee the law \" has several weaknesses which terrorists could exploit , under ##mini ##ng our defenses . \" [SEP]</td>\n",
       "      <td>1</td>\n",
       "      <td>1</td>\n",
       "      <td>3.53</td>\n",
       "      <td>0.97</td>\n",
       "    </tr>\n",
       "    <tr>\n",
       "      <td>694</td>\n",
       "      <td>The fines are part of failed Republican efforts to force or entice the Democrats to return .,Perry said he backs the Senate 's efforts , including the fines , to force the Democrats to return .</td>\n",
       "      <td>[CLS] the fines are part of failed republican efforts to force or en ##tic ##e the democrats to return . perry said he backs the senate ' s efforts , including the fines , to force the democrats to return . [SEP]</td>\n",
       "      <td>1</td>\n",
       "      <td>0</td>\n",
       "      <td>3.51</td>\n",
       "      <td>0.03</td>\n",
       "    </tr>\n",
       "    <tr>\n",
       "      <td>296</td>\n",
       "      <td>GE stock were up 37 cents to $ 28.56 in morning New York Stock Exchange trade .,Investors reacted little , with GE shares edging 7 cents lower to end at $ 28.12 on the New York Stock Exchange .</td>\n",
       "      <td>[CLS] ge stock were up 37 cents to $ 28 . 56 in morning new york stock exchange trade . investors reacted little , with ge shares ed ##ging 7 cents lower to end at $ 28 . 12 on the new york stock exchange . [SEP]</td>\n",
       "      <td>1</td>\n",
       "      <td>0</td>\n",
       "      <td>3.49</td>\n",
       "      <td>0.03</td>\n",
       "    </tr>\n",
       "  </tbody>\n",
       "</table>"
      ],
      "text/plain": [
       "<IPython.core.display.HTML object>"
      ]
     },
     "metadata": {},
     "output_type": "display_data"
    }
   ],
   "source": [
    "utils.custom_show_top_losses(txt_ci, test_df, text_cols, 10)"
   ]
  },
  {
   "cell_type": "markdown",
   "metadata": {},
   "source": [
    "#### Next Steps\n",
    "\n",
    "- There's major improvement in the accuracy and loss by just running for few epochs. We can improve the model further to acc = 0.8504901960784313 and f1 = 0.8974789915966387 by using the techniques mentioned in the original BERT paper. Refer to https://github.com/huggingface/pytorch-pretrained-BERT#mrpc for details.\n",
    "- Use BertAdam Optimizer [BertAdam](https://github.com/huggingface/pytorch-pretrained-BERT/blob/694e2117f33d752ae89542e70b84533c52cb9142/README.md#optimizers)\n",
    "[Is BertAdam better](https://github.com/huggingface/pytorch-pretrained-BERT/issues/420)\n",
    "\n",
    "- Finetune BERT on Quora insincere questions.\n",
    "- Explore LAMB Optimizer: https://forums.fast.ai/t/lamb-optimizer/43582/19\n",
    "- Compare with ULMFiT, gpt-2"
   ]
  },
  {
   "cell_type": "code",
   "execution_count": null,
   "metadata": {},
   "outputs": [],
   "source": []
  }
 ],
 "metadata": {
  "kernelspec": {
   "display_name": "Python [conda env:fastai]",
   "language": "python",
   "name": "conda-env-fastai-py"
  },
  "language_info": {
   "codemirror_mode": {
    "name": "ipython",
    "version": 3
   },
   "file_extension": ".py",
   "mimetype": "text/x-python",
   "name": "python",
   "nbconvert_exporter": "python",
   "pygments_lexer": "ipython3",
   "version": "3.7.3"
  }
 },
 "nbformat": 4,
 "nbformat_minor": 1
}
